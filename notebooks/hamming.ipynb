{
 "cells": [
  {
   "cell_type": "markdown",
   "id": "74b402b2-e753-4218-be79-89018f48940a",
   "metadata": {},
   "source": [
    "# Hamming Distance"
   ]
  },
  {
   "cell_type": "markdown",
   "id": "a617b5b7-d995-44b5-be2d-9c32c89d3abf",
   "metadata": {},
   "source": [
    "Mojo vs Python for computing the [Hamming distance](https://en.wikipedia.org/wiki/Hamming_distance) between two arrays."
   ]
  },
  {
   "cell_type": "markdown",
   "id": "a9b90c8d-0505-4924-8922-63f645fb7de1",
   "metadata": {},
   "source": [
    "## Python"
   ]
  },
  {
   "cell_type": "code",
   "execution_count": 1,
   "id": "01f366a8-b2f6-460c-a72b-3b20d3a39266",
   "metadata": {},
   "outputs": [],
   "source": [
    "%%python \n",
    "\n",
    "# Import required modules\n",
    "import time              # Standard library for time-related tasks\n",
    "import numpy as np       # NumPy for numerical computations\n",
    "from timeit import timeit# Standard library for timing code\n",
    "\n",
    "# Initialize the size of the numpy arrays\n",
    "n = 1_000_000_000  # 1 billion elements\n",
    "\n",
    "# Generate random numpy arrays for calculations\n",
    "# np.random.randint(0, 4, size=n) generates an array of `n` random integers between 0 and 3 (inclusive)\n",
    "anp = np.random.randint(0, 4, size=n)\n",
    "bnp = np.random.randint(0, 4, size=n)\n",
    "\n",
    "# Custom function to format and print time measurements\n",
    "def print_formatter(string, value):\n",
    "    \"\"\"\n",
    "    Custom function for formatted printing.\n",
    "    \n",
    "    Parameters:\n",
    "    - string (str): The description of the value\n",
    "    - value (float): The value to be printed\n",
    "    \n",
    "    Output:\n",
    "    - Formatted print to console\n",
    "    \"\"\"\n",
    "    print(f\"{string}: {value:5.5f}\")\n",
    "\n",
    "# At this point, 'anp' and 'bnp' contain random integers between 0 and 3\n",
    "# You can proceed to perform operations or further computations on these arrays.\n"
   ]
  },
  {
   "cell_type": "markdown",
   "id": "32aad82f-cc83-488e-b224-c3e709a7eecc",
   "metadata": {},
   "source": [
    "### Analysis"
   ]
  },
  {
   "cell_type": "code",
   "execution_count": 2,
   "id": "f06a9642-e520-40b9-97a1-123fd799286c",
   "metadata": {},
   "outputs": [
    {
     "name": "stdout",
     "output_type": "stream",
     "text": [
      "=== Hamming Distance Performance ===\n",
      "hamming_distance value: 749983321.00000\n",
      "hamming_distance time (ms): 564.26367\n"
     ]
    }
   ],
   "source": [
    "%%python \n",
    "\n",
    "# Define a function to compute the Hamming distance between two numpy arrays\n",
    "def hamming_distance(a, b):\n",
    "    \"\"\"\n",
    "    Compute the Hamming distance between two arrays 'a' and 'b'.\n",
    "    \n",
    "    Parameters:\n",
    "    - a (numpy array): The first array\n",
    "    - b (numpy array): The second array\n",
    "    \n",
    "    Returns:\n",
    "    - int: The Hamming distance between arrays 'a' and 'b'\n",
    "    \"\"\"\n",
    "    \n",
    "    # Utilize numpy's count_nonzero function for optimized performance.\n",
    "    # The expression (a != b) creates a Boolean array where True indicates differing elements.\n",
    "    # np.count_nonzero counts the number of True values in this Boolean array.\n",
    "    return np.count_nonzero(a != b)\n",
    "\n",
    "# Measure the time taken for the hamming_distance function to execute\n",
    "# The lambda function allows us to time the function without arguments\n",
    "# 'number=100' indicates that the time measurement will be averaged over 100 executions.\n",
    "secs = timeit(lambda: hamming_distance(anp, bnp), number=100) / 100\n",
    "\n",
    "# Output section\n",
    "print(\"=== Hamming Distance Performance ===\")\n",
    "# Output the calculated Hamming distance\n",
    "print_formatter(\"hamming_distance value\", hamming_distance(anp, bnp))\n",
    "\n",
    "# Output the time taken to execute the hamming_distance function (converted to milliseconds)\n",
    "print_formatter(\"hamming_distance time (ms)\", 1000 * secs)\n"
   ]
  },
  {
   "cell_type": "markdown",
   "id": "52d25edd-630b-4f68-8107-a28a97893f69",
   "metadata": {},
   "source": [
    "## Mojo"
   ]
  },
  {
   "cell_type": "markdown",
   "id": "4af332a3-3cf7-44ca-8bce-99b97a100c29",
   "metadata": {},
   "source": [
    "### Create Tensors"
   ]
  },
  {
   "cell_type": "code",
   "execution_count": 3,
   "id": "4f30c3ea-e18f-4c0d-a686-b823266eb827",
   "metadata": {},
   "outputs": [],
   "source": [
    "# Load Mojo librarires - some may not be needed for this notebook\n",
    "\n",
    "from algorithm import vectorize, parallelize\n",
    "from benchmark import Benchmark\n",
    "from math import div_ceil, min, sqrt, floor, mod, max\n",
    "from memory import memset_zero\n",
    "from memory.buffer import Buffer\n",
    "from memory.unsafe import DTypePointer\n",
    "from random import rand, randint, random_float64\n",
    "from runtime.llcl import Runtime, num_cores\n",
    "from sys.intrinsics import strided_load\n",
    "from sys.info import simdwidthof\n",
    "from tensor import Tensor\n",
    "from time import now\n",
    "from utils.list import VariadicList"
   ]
  },
  {
   "cell_type": "code",
   "execution_count": 4,
   "id": "81e4016b-1787-4682-8958-2db36d2fdaf4",
   "metadata": {},
   "outputs": [],
   "source": [
    "# Declare an integer 'n' and set it to one billion\n",
    "let n: Int = 1_000_000_000  \n",
    "\n",
    "# Create tensors 'x' and 'y' of int64 data type with 'n' elements\n",
    "var x = Tensor[DType.int64](n) \n",
    "var y = Tensor[DType.int64](n)\n",
    "\n",
    "# Fill tensors 'x' and 'y' with random integers between 0 and 3\n",
    "randint[DType.int64](x.data(), n, 0, 3)  \n",
    "randint[DType.int64](y.data(), n, 0, 3)  \n"
   ]
  },
  {
   "cell_type": "markdown",
   "id": "c9b1937c-e950-443c-a250-de4708426b5e",
   "metadata": {},
   "source": [
    "### Typed Approach"
   ]
  },
  {
   "cell_type": "code",
   "execution_count": 5,
   "id": "0f99e2db-9115-4eb5-a15f-4c198a958b7d",
   "metadata": {},
   "outputs": [],
   "source": [
    "# Define a function named 'mojo_fn_hamming' that takes two tensors 'x' and 'y' as arguments and returns an Int64 value\n",
    "fn mojo_fn_hamming(x: Tensor[DType.int64], y: Tensor[DType.int64]) -> Int64:\n",
    "    \n",
    "    # Initialize a variable 'hamming_distance' to zero, of type Int64\n",
    "    var hamming_distance: Int64 = 0\n",
    "    \n",
    "    # Get the number of elements in tensor 'x' and assign it to 'n'\n",
    "    let n = x.num_elements()\n",
    "    \n",
    "    # Iterate through the range of 'n' (from 0 to n-1)\n",
    "    for i in range(n):\n",
    "        \n",
    "        # Check if the elements at position 'i' in tensors 'x' and 'y' are different\n",
    "        if x[i] != y[i]:\n",
    "            \n",
    "            # If the elements are different, increment the 'hamming_distance' by 1\n",
    "            hamming_distance += 1\n",
    "    \n",
    "    # Return the computed 'hamming_distance' value\n",
    "    return hamming_distance\n"
   ]
  },
  {
   "cell_type": "code",
   "execution_count": 6,
   "id": "a687871a-3acb-4811-9bea-03a086e9900e",
   "metadata": {},
   "outputs": [
    {
     "name": "stdout",
     "output_type": "stream",
     "text": [
      "mojo_fn_hamming value: 749999134.00000\n",
      "mojo_fn_hamming time (ms): 608.70787\n",
      "Speedup 0.9269859919668845\n"
     ]
    }
   ],
   "source": [
    "# Capture the current time before evaluation begins\n",
    "var eval_begin = now()\n",
    "\n",
    "# Call the 'mojo_fn_hamming' function with tensors 'x' and 'y' as arguments, and assign the result to 'mojo_fn_hamming'\n",
    "let mojo_fn_hamming = mojo_fn_hamming(x, y)\n",
    "\n",
    "# Capture the current time after evaluation ends\n",
    "var eval_end = now()\n",
    "\n",
    "# Print the value of 'mojo_fn_hamming' using 'print_formatter'\n",
    "print_formatter(\"mojo_fn_hamming value\", mojo_fn_hamming)\n",
    "\n",
    "# Calculate and print the evaluation time in milliseconds using 'print_formatter'\n",
    "print_formatter(\"mojo_fn_hamming time (ms)\",Float64((eval_end - eval_begin)) / 1e6)\n",
    "\n",
    "# Calculate and print the speedup factor\n",
    "print(\"Speedup\", (1000*secs) / (Float64((eval_end - eval_begin)) / 1e6))\n"
   ]
  },
  {
   "cell_type": "markdown",
   "id": "0da1bae5-3c67-4b72-9130-754940cc08ec",
   "metadata": {},
   "source": [
    "### Typed + Vectorized Approach"
   ]
  },
  {
   "cell_type": "code",
   "execution_count": 7,
   "id": "c550d444-e23d-4ba1-be55-0707d6825dab",
   "metadata": {},
   "outputs": [],
   "source": [
    "# Define an alias 'nelts' for the SIMD vector width for int64 data type\n",
    "alias nelts = simdwidthof[DType.int64]()  \n",
    "\n",
    "# Define a vectorized function 'mojo_fn_hamming_vectorized' to compute the Hamming distance between tensors 'x' and 'y'\n",
    "fn mojo_fn_hamming_vectorized(x: Tensor[DType.int64], y: Tensor[DType.int64]) -> Int64:\n",
    "    \n",
    "    # Initialize a variable 'hamming_distance' to zero, of type Int64\n",
    "    var hamming_distance: Int64 = 0\n",
    "    \n",
    "    # Get the number of elements in tensor 'x' and assign it to 'n'\n",
    "    let n = x.num_elements()\n",
    "\n",
    "    # Define a parameterized inner function 'count_differences' to compute differences within SIMD vectors\n",
    "    @parameter\n",
    "    fn count_differences[nelts: Int](i: Int):\n",
    "        \n",
    "        # Load a SIMD vector 'x_vec' from tensor 'x' starting at index 'i'\n",
    "        let x_vec = x.simd_load[nelts](i)\n",
    "        \n",
    "        # Load a SIMD vector 'y_vec' from tensor 'y' starting at index 'i'\n",
    "        let y_vec = y.simd_load[nelts](i)\n",
    "\n",
    "        # Iterate through the range of 'nelts' (from 0 to nelts-1)\n",
    "        for j in range(nelts):\n",
    "            \n",
    "            # Check if the elements at position 'j' in SIMD vectors 'x_vec' and 'y_vec' are different\n",
    "            if x_vec[j] != y_vec[j]:\n",
    "                \n",
    "                # If the elements are different, increment the 'hamming_distance' by 1\n",
    "                hamming_distance += 1\n",
    "\n",
    "    # Apply vectorization to the 'count_differences' function over the range of 'n' with a step size of 'nelts'\n",
    "    vectorize[nelts, count_differences](n)\n",
    "    \n",
    "    # Handle any remaining elements that were not processed by vectorized function\n",
    "    for i in range(nelts * (n // nelts), n):\n",
    "        \n",
    "        # Check if the elements at position 'i' in tensors 'x' and 'y' are different\n",
    "        if x[i] != y[i]:\n",
    "            \n",
    "            # If the elements are different, increment the 'hamming_distance' by 1\n",
    "            hamming_distance += 1\n",
    "        \n",
    "    # Return the computed 'hamming_distance' value\n",
    "    return hamming_distance\n"
   ]
  },
  {
   "cell_type": "code",
   "execution_count": 8,
   "id": "78c4d4ab-43bb-462d-b6a9-975bbd5862e0",
   "metadata": {},
   "outputs": [
    {
     "name": "stdout",
     "output_type": "stream",
     "text": [
      "mojo_fn_hamming_vectorized value: 749999134.00000\n",
      "mojo_fn_hamming_vectorized time (ms): 887.50741\n",
      "Speedup 0.635784738007833\n"
     ]
    }
   ],
   "source": [
    "# Capture the current time before evaluation begins\n",
    "var eval_begin = now()\n",
    "\n",
    "# Call the 'mojo_fn_hamming_vectorized' function with tensors 'x' and 'y' as arguments, and assign the result to 'mojo_fn_hamming_vectorized'\n",
    "let mojo_fn_hamming_vectorized = mojo_fn_hamming_vectorized(x,y)\n",
    "\n",
    "# Capture the current time after evaluation ends\n",
    "var eval_end = now()\n",
    "\n",
    "# Print the value of 'mojo_fn_hamming_vectorized' using 'print_formatter'\n",
    "print_formatter(\"mojo_fn_hamming_vectorized value\", mojo_fn_hamming_vectorized)\n",
    "\n",
    "# Calculate and print the evaluation time in milliseconds using 'print_formatter'\n",
    "print_formatter(\"mojo_fn_hamming_vectorized time (ms)\",Float64((eval_end - eval_begin)) / 1e6)\n",
    "\n",
    "# Calculate and print the speedup factor\n",
    "print(\"Speedup\", (1000*secs) / (Float64((eval_end - eval_begin)) / 1e6))"
   ]
  },
  {
   "cell_type": "markdown",
   "id": "082caf0e-3468-4e76-96c9-56e2b19d7e37",
   "metadata": {},
   "source": [
    "### Typed + Vectorized + Parallelized Approach"
   ]
  },
  {
   "cell_type": "code",
   "execution_count": 9,
   "id": "eafcadf2-d0bb-4eb7-a057-0c081d63c4dc",
   "metadata": {},
   "outputs": [],
   "source": [
    "# Define an alias 'nelts' for the SIMD vector width for int64 data type\n",
    "alias nelts = simdwidthof[DType.int64]()\n",
    "\n",
    "# Define a parallelized function 'mojo_fn_hamming_parallelized' to compute the Hamming distance between tensors 'x' and 'y'\n",
    "fn mojo_fn_hamming_parallelized(x: Tensor[DType.int64], y: Tensor[DType.int64], rt: Runtime) -> Int64:\n",
    "    \n",
    "    # Initialize a variable 'hamming_distance' to zero, of type Int64\n",
    "    var hamming_distance: Int64 = 0\n",
    "    \n",
    "    # Get the number of elements in tensor 'x' and assign it to 'n'\n",
    "    let n = x.num_elements()\n",
    "    \n",
    "    # Get the number of available cores and assign it to 'num_threads'\n",
    "    let num_threads: Int = num_cores()\n",
    "\n",
    "    # Define a parameterized inner function 'partial_sum' to compute the Hamming distance in parallel\n",
    "    @parameter\n",
    "    fn partial_sum(thread_idx: Int):\n",
    "        \n",
    "        # Determine the range of indices each thread will process\n",
    "        let step = n // num_threads\n",
    "        let start = thread_idx * step\n",
    "        let end = min((thread_idx + 1) * step, n)\n",
    "        \n",
    "        # Initialize a variable 'local_hamming_distance' to zero, of type Int64, to store the Hamming distance computed by this thread\n",
    "        var local_hamming_distance: Int64 = 0\n",
    "\n",
    "        # Define a parameterized inner function 'count_differences' to compute differences within SIMD vectors\n",
    "        @parameter\n",
    "        fn count_differences[nelts: Int](i: Int):\n",
    "            \n",
    "            # Load a SIMD vector 'x_vec' from tensor 'x' starting at index 'i'\n",
    "            let x_vec = x.simd_load[nelts](i)\n",
    "            \n",
    "            # Load a SIMD vector 'y_vec' from tensor 'y' starting at index 'i'\n",
    "            let y_vec = y.simd_load[nelts](i)\n",
    "\n",
    "            # Iterate through the range of 'nelts' (from 0 to nelts-1)\n",
    "            for j in range(nelts):\n",
    "                \n",
    "                # Check if the elements at position 'j' in SIMD vectors 'x_vec' and 'y_vec' are different\n",
    "                if x_vec[j] != y_vec[j]:\n",
    "                    \n",
    "                    # If the elements are different, increment the 'local_hamming_distance' by 1\n",
    "                    local_hamming_distance += 1\n",
    "\n",
    "        # Apply vectorization to the 'count_differences' function over the range of indices assigned to this thread\n",
    "        vectorize[nelts, count_differences](end - start)\n",
    "\n",
    "        # Handle any remaining elements that were not processed by vectorized function\n",
    "        for i in range(nelts * ((end - start) // nelts), end - start):\n",
    "            \n",
    "            # Check if the elements at position 'i' in tensors 'x' and 'y' are different\n",
    "            if x[i] != y[i]:\n",
    "                \n",
    "                # If the elements are different, increment the 'local_hamming_distance' by 1\n",
    "                local_hamming_distance += 1\n",
    "\n",
    "        # Accumulate the 'local_hamming_distance' computed by this thread to the global 'hamming_distance'\n",
    "        hamming_distance += local_hamming_distance\n",
    "\n",
    "    # Execute the 'partial_sum' function in parallel across multiple threads\n",
    "    parallelize[partial_sum](rt, num_threads)\n",
    "\n",
    "    # Return the computed 'hamming_distance' value\n",
    "    return hamming_distance\n"
   ]
  },
  {
   "cell_type": "code",
   "execution_count": 10,
   "id": "4b2873e4-404b-4d85-9008-d8247605a3af",
   "metadata": {},
   "outputs": [
    {
     "name": "stdout",
     "output_type": "stream",
     "text": [
      "mojo_fn_hamming_parallelized value: 750018592.00000\n",
      "mojo_fn_hamming_parallelized time (ms): 66.08831\n",
      "Speedup 8.538024742951903\n"
     ]
    }
   ],
   "source": [
    "# Capture the current time before evaluation begins\n",
    "var eval_begin = now()\n",
    "\n",
    "# Call the 'mojo_fn_hamming_parallelized' function with tensors 'x' and 'y', and the number of cores as arguments, and assign the result to 'mojo_fn_hamming_parallelized'\n",
    "let mojo_fn_hamming_parallelized = mojo_fn_hamming_parallelized(x,y,num_cores())\n",
    "\n",
    "# Capture the current time after evaluation ends\n",
    "var eval_end = now()\n",
    "\n",
    "# Print the value of 'mojo_fn_hamming_parallelized' using 'print_formatter'\n",
    "print_formatter(\"mojo_fn_hamming_parallelized value\", mojo_fn_hamming_parallelized)\n",
    "\n",
    "# Calculate and print the evaluation time in milliseconds using 'print_formatter'\n",
    "print_formatter(\"mojo_fn_hamming_parallelized time (ms)\", Float64((eval_end - eval_begin)) / 1e6)\n",
    "\n",
    "# Calculate and print the speedup factor\n",
    "print(\"Speedup\", (1000*secs) / (Float64((eval_end - eval_begin)) / 1e6))\n"
   ]
  }
 ],
 "metadata": {
  "kernelspec": {
   "display_name": "Mojo",
   "language": "mojo",
   "name": "mojo-jupyter-kernel"
  },
  "language_info": {
   "codemirror_mode": {
    "name": "mojo"
   },
   "file_extension": ".mojo",
   "mimetype": "text/x-mojo",
   "name": "mojo"
  }
 },
 "nbformat": 4,
 "nbformat_minor": 5
}
